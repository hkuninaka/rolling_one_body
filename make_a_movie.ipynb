{
 "cells": [
  {
   "cell_type": "markdown",
   "metadata": {},
   "source": [
    "#  転がり動画の作成と保存\n",
    "\n",
    "参考サイト\n",
    "http://www.faculty.umassd.edu/j.wang/vp/movie/bounce.py"
   ]
  },
  {
   "cell_type": "code",
   "execution_count": 2,
   "metadata": {
    "collapsed": false
   },
   "outputs": [
    {
     "data": {
      "text/html": [
       "<div id=\"glowscript\" class=\"glowscript\"></div>"
      ],
      "text/plain": [
       "<IPython.core.display.HTML object>"
      ]
     },
     "metadata": {},
     "output_type": "display_data"
    },
    {
     "data": {
      "application/javascript": [
       "window.__context = { glowscript_container: $(\"#glowscript\").removeAttr(\"id\")}"
      ],
      "text/plain": [
       "<IPython.core.display.Javascript object>"
      ]
     },
     "metadata": {},
     "output_type": "display_data"
    }
   ],
   "source": [
    "from vpython import *\n",
    "\n",
    "a, b = 10, 10\n",
    "scene = canvas(width=800, height=400)\n",
    "scene.up = vector(0, 0, 1)\n",
    "scene.autoscale = True\n",
    "scene.forward = vector(-1, 1, -1)\n",
    "scene.center = vector(30.6, 60.85, 0)\n",
    "CB=color.white\n",
    "curve(pos = [vector(0, 0, 0), vector(a, 0, 0)], color=CB)\n",
    "curve(pos = [vector(0, 0, 0), vector(0, a, 0)], color=CB)\n",
    "curve(pos = [vector(0, 0, 0), vector(0, 0, a)], color=CB)\n",
    "graph(width=600, height=400, foreground=color.black, background=color.white)\n",
    "\n",
    "table = box(pos = vector(30.6, 60.95, -2), length = 121.9, height = 61.2, width = 4, color = color.green, axis = vector(0, 1, 0))\n",
    "ball = sphere(pos = vector(30.6, 80, 1.805), radius = 1.805)\n",
    "\n",
    "ball.velocity = vector(0.0, -224.0, 0.0)\n",
    "ball.accel = vector(0.0, 0.0, 0.0)\n",
    "ball.mass = 53.8 # 53.8 g\n",
    "seconds = 0\n",
    "dt = 0.01 # 0.01 sec\n",
    "mu = 0.3  # friction coefficient\n",
    "g = 979   # gravity in cgs units\n",
    "vel = gcurve()\n",
    "\n",
    "while seconds <= 0.9:\n",
    "    rate(20)\n",
    "    seconds += dt\n",
    "    ball.friction = -mu * ball.mass * g * norm(ball.velocity)\n",
    "    ball.accel = ball.friction / ball.mass\n",
    "    ball.pos = ball.pos + ball.velocity * dt\n",
    "    ball.velocity = ball.velocity + ball.accel * dt\n",
    "    vel.plot(pos = (seconds, ball.velocity.y))\n",
    "    if ball.pos.y <= ball.radius:\n",
    "        ball.velocity.y = -ball.velocity.y"
   ]
  },
  {
   "cell_type": "code",
   "execution_count": null,
   "metadata": {
    "collapsed": true
   },
   "outputs": [],
   "source": []
  }
 ],
 "metadata": {
  "kernelspec": {
   "display_name": "VPython",
   "language": "python",
   "name": "vpython"
  },
  "language_info": {
   "codemirror_mode": {
    "name": "ipython",
    "version": 3
   },
   "file_extension": ".py",
   "mimetype": "text/x-python",
   "name": "python",
   "nbconvert_exporter": "python",
   "pygments_lexer": "ipython3",
   "version": "3.5.2"
  },
  "latex_envs": {
   "bibliofile": "biblio.bib",
   "cite_by": "apalike",
   "current_citInitial": 1,
   "eqLabelWithNumbers": true,
   "eqNumInitial": 0
  }
 },
 "nbformat": 4,
 "nbformat_minor": 2
}
